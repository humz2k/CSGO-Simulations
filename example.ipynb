{
 "cells": [
  {
   "cell_type": "markdown",
   "metadata": {},
   "source": [
    "<center>\n",
    "    \n",
    "# Predicting PGL Major Challenger Stage"
   ]
  },
  {
   "cell_type": "markdown",
   "metadata": {},
   "source": [
    "#### Using data from: \n",
    "* https://liquipedia.net/counterstrike/PGL/2022/Antwerp\n",
    "* https://www.hltv.org/\n",
    "* https://www.hltv.org/news/32621/buchholz-seeding-to-be-used-in-pgl-major-swiss-stages"
   ]
  },
  {
   "cell_type": "code",
   "execution_count": 1,
   "metadata": {
    "jupyter": {
     "outputs_hidden": false,
     "source_hidden": false
    },
    "nteract": {
     "transient": {
      "deleting": false
     }
    }
   },
   "outputs": [],
   "source": [
    "import csgo_sims\n",
    "import random"
   ]
  },
  {
   "cell_type": "markdown",
   "metadata": {},
   "source": [
    "To run a simulation, use `csgo_sims.table.do_sims(win_func,nsims=x)`, where `win_func` is a function that takes in two teams, and returns the winner and a `csgo_sims.GameStats` object, and x is the number of simulations to run.\n",
    "\n",
    "`csgo_sims` has three built in `win_func`s, `csgo_sims.random`, `csgo_sims.ilyas_rating_only` and `csgo_sims.hltv_rating_only`."
   ]
  },
  {
   "cell_type": "markdown",
   "metadata": {},
   "source": [
    "A `win_func` could look like:   "
   ]
  },
  {
   "cell_type": "code",
   "execution_count": 2,
   "metadata": {},
   "outputs": [],
   "source": [
    "def example_func(team1,team2):\n",
    "    isbo3 = csgo_sims.isbo3(team1,team2)\n",
    "    score = (1,0)\n",
    "    if isbo3:\n",
    "        score = (2,random.randint(0,1))\n",
    "    rd = random.randint(0,16*(score[0] + score[1]))\n",
    "    if team1.stats[\"hltv\"] > team2.stats[\"hltv\"]:\n",
    "        return team1,csgo_sims.GameStats(rd,score)\n",
    "    elif team2.stats[\"hltv\"] > team1.stats[\"hltv\"]:\n",
    "        return team2,csgo_sims.GameStats(rd,score)\n",
    "    else:\n",
    "        return random.choice([team1,team2]),csgo_sims.GameStats(rd,score)"
   ]
  },
  {
   "cell_type": "markdown",
   "metadata": {},
   "source": [
    "Which would be used like:"
   ]
  },
  {
   "cell_type": "code",
   "execution_count": 3,
   "metadata": {},
   "outputs": [
    {
     "name": "stdout",
     "output_type": "stream",
     "text": [
      "Team             Promotion% (3-0)% (3-1)% (3-2)% (2-3)% (1-3)% (0-3)%\n",
      "=====================================================================\n",
      "Vitality               100%     0%    70%    30%     0%     0%     0%\n",
      "forZe                  100%     0%     0%   100%     0%     0%     0%\n",
      "Outsiders              100%     0%   100%     0%     0%     0%     0%\n",
      "G2                     100%   100%     0%     0%     0%     0%     0%\n",
      "ENCE                   100%   100%     0%     0%     0%     0%     0%\n",
      "Astralis               100%     0%   100%     0%     0%     0%     0%\n",
      "Complexity             100%     0%    30%    70%     0%     0%     0%\n",
      "Liquid                  70%     0%     0%    70%    30%     0%     0%\n",
      "MIBR                    30%     0%     0%    30%    70%     0%     0%\n",
      "Eternal Fire             0%     0%     0%     0%     0%   100%     0%\n",
      "Bad News Eagles          0%     0%     0%     0%   100%     0%     0%\n",
      "Spirit                   0%     0%     0%     0%   100%     0%     0%\n",
      "Imperial                 0%     0%     0%     0%     0%     0%   100%\n",
      "9z                       0%     0%     0%     0%     0%   100%     0%\n",
      "IHC                      0%     0%     0%     0%     0%    70%    30%\n",
      "Renegades                0%     0%     0%     0%     0%    30%    70%\n"
     ]
    }
   ],
   "source": [
    "results = csgo_sims.table.do_sims(example_func,nsims=10)"
   ]
  },
  {
   "cell_type": "markdown",
   "metadata": {},
   "source": [
    "Or to only run one simulation:"
   ]
  },
  {
   "cell_type": "code",
   "execution_count": 4,
   "metadata": {},
   "outputs": [
    {
     "name": "stdout",
     "output_type": "stream",
     "text": [
      "============================Round0===========================\n",
      "Vitality        (1-0) beats Complexity       (0-1), 1-0 (+11)\n",
      "Bad News Eagles (1-0) beats Eternal Fire     (0-1), 1-0 (+10)\n",
      "G2              (1-0) beats Liquid           (0-1), 1-0 (+12)\n",
      "forZe           (1-0) beats Renegades        (0-1), 1-0 (+5)\n",
      "Astralis        (1-0) beats IHC              (0-1), 1-0 (+0)\n",
      "Spirit          (1-0) beats Imperial         (0-1), 1-0 (+16)\n",
      "Outsiders       (1-0) beats MIBR             (0-1), 1-0 (+2)\n",
      "ENCE            (1-0) beats 9z               (0-1), 1-0 (+0)\n",
      "============================Round1===========================\n",
      "ENCE            (2-0) beats Outsiders        (1-1), 1-0 (+16)\n",
      "G2              (2-0) beats Spirit           (1-1), 1-0 (+6)\n",
      "forZe           (2-0) beats Bad News Eagles  (1-1), 1-0 (+14)\n",
      "Astralis        (2-0) beats Vitality         (1-1), 1-0 (+1)\n",
      "MIBR            (1-1) beats 9z               (0-2), 1-0 (+1)\n",
      "Liquid          (1-1) beats Imperial         (0-2), 1-0 (+10)\n",
      "Eternal Fire    (1-1) beats Renegades        (0-2), 1-0 (+5)\n",
      "Complexity      (1-1) beats IHC              (0-2), 1-0 (+1)\n",
      "============================Round2===========================\n",
      "ENCE            (3-0) beats Astralis         (2-1), 2-0 (+3)\n",
      "G2              (3-0) beats forZe            (2-1), 2-1 (+28)\n",
      "Vitality        (2-1) beats Liquid           (1-2), 1-0 (+7)\n",
      "Complexity      (2-1) beats MIBR             (1-2), 1-0 (+1)\n",
      "Outsiders       (2-1) beats Bad News Eagles  (1-2), 1-0 (+9)\n",
      "Spirit          (2-1) beats Eternal Fire     (1-2), 1-0 (+0)\n",
      "9z              (1-2) beats Imperial         (0-3), 2-0 (+0)\n",
      "Renegades       (1-2) beats IHC              (0-3), 2-0 (+32)\n",
      "============================Round3===========================\n",
      "Complexity      (3-1) beats forZe            (2-2), 2-1 (+32)\n",
      "Astralis        (3-1) beats Spirit           (2-2), 2-0 (+29)\n",
      "Outsiders       (3-1) beats Vitality         (2-2), 2-0 (+16)\n",
      "MIBR            (2-2) beats Renegades        (1-3), 2-0 (+8)\n",
      "Bad News Eagles (2-2) beats 9z               (1-3), 2-1 (+35)\n",
      "Liquid          (2-2) beats Eternal Fire     (1-3), 2-0 (+21)\n",
      "============================Round4===========================\n",
      "Vitality        (3-2) beats Liquid           (2-3), 2-1 (+11)\n",
      "forZe           (3-2) beats Bad News Eagles  (2-3), 2-0 (+14)\n",
      "MIBR            (3-2) beats Spirit           (2-3), 2-0 (+13)\n",
      "============================Result===========================\n",
      "Eliminated\n",
      "----------\n",
      "Imperial\n",
      "IHC\n",
      "Renegades\n",
      "9z\n",
      "Eternal Fire\n",
      "Liquid\n",
      "Bad News Eagles\n",
      "Spirit\n",
      "\n",
      "Promoted\n",
      "----------\n",
      "ENCE\n",
      "G2\n",
      "Complexity\n",
      "Astralis\n",
      "Outsiders\n",
      "Vitality\n",
      "forZe\n",
      "MIBR\n"
     ]
    }
   ],
   "source": [
    "results = csgo_sims.table.play(example_func)"
   ]
  },
  {
   "cell_type": "markdown",
   "metadata": {},
   "source": [
    "Both `do_sims` and `play` return dictionaries with all the data, and can be made to run without being verbose using the argument `verbose = False`."
   ]
  },
  {
   "cell_type": "markdown",
   "metadata": {},
   "source": [
    "## Stats"
   ]
  },
  {
   "cell_type": "markdown",
   "metadata": {},
   "source": [
    "Currently, the only stats that are available for a team are: \n",
    "* `hltv`\n",
    "* `ilyasrating`\n",
    "* `weekstop30`\n",
    "* `averageplayerage`\n",
    "* `win%last3months`\n",
    "* `seed`"
   ]
  },
  {
   "cell_type": "markdown",
   "metadata": {},
   "source": [
    "## Using the example `win_func`s"
   ]
  },
  {
   "cell_type": "markdown",
   "metadata": {},
   "source": [
    "#### Using HLTV Team Rating as Probability"
   ]
  },
  {
   "cell_type": "code",
   "execution_count": 5,
   "metadata": {
    "jupyter": {
     "outputs_hidden": false,
     "source_hidden": false
    },
    "nteract": {
     "transient": {
      "deleting": false
     }
    }
   },
   "outputs": [
    {
     "name": "stdout",
     "output_type": "stream",
     "text": [
      "Team             Promotion% (3-0)% (3-1)% (3-2)% (2-3)% (1-3)% (0-3)%\n",
      "=====================================================================\n",
      "Outsiders              100%     1%    82%    17%     0%     0%     0%\n",
      "G2                     100%    88%    11%     0%     0%     0%     0%\n",
      "ENCE                   100%    93%     7%     0%     0%     0%     0%\n",
      "Astralis               100%    15%    74%    11%     0%     0%     0%\n",
      "Vitality                99%     3%    58%    38%     1%     0%     0%\n",
      "Liquid                  94%     0%    24%    70%     6%     0%     0%\n",
      "Complexity              43%     0%     9%    34%    38%    19%     0%\n",
      "forZe                   40%     0%    10%    30%    49%    11%     0%\n",
      "MIBR                    38%     0%     6%    32%    42%    20%     0%\n",
      "Spirit                  33%     0%     8%    25%    44%    22%     0%\n",
      "Bad News Eagles         23%     0%     6%    18%    38%    36%     3%\n",
      "Eternal Fire            20%     0%     6%    15%    43%    34%     3%\n",
      "9z                       8%     0%     0%     8%    23%    46%    23%\n",
      "Imperial                 2%     0%     0%     1%    16%    41%    41%\n",
      "IHC                      0%     0%     0%     0%     0%    35%    65%\n",
      "Renegades                0%     0%     0%     0%     0%    35%    65%\n"
     ]
    }
   ],
   "source": [
    "hltv_only_results = csgo_sims.table.do_sims(csgo_sims.hltv_rating_only,nsims=1000)"
   ]
  },
  {
   "cell_type": "markdown",
   "metadata": {},
   "source": [
    "#### Using Ilyas's Rating as Probability"
   ]
  },
  {
   "cell_type": "code",
   "execution_count": 6,
   "metadata": {
    "jupyter": {
     "outputs_hidden": false,
     "source_hidden": false
    },
    "nteract": {
     "transient": {
      "deleting": false
     }
    }
   },
   "outputs": [
    {
     "name": "stdout",
     "output_type": "stream",
     "text": [
      "Team             Promotion% (3-0)% (3-1)% (3-2)% (2-3)% (1-3)% (0-3)%\n",
      "=====================================================================\n",
      "ENCE                   100%    84%    14%     2%     0%     0%     0%\n",
      "G2                      99%    54%    34%    12%     0%     0%     0%\n",
      "Astralis                99%    45%    46%     8%     1%     0%     0%\n",
      "Liquid                  92%     4%    40%    48%     5%     3%     0%\n",
      "Complexity              89%     4%    48%    36%     8%     3%     0%\n",
      "Outsiders               59%     2%    22%    35%    28%    12%     1%\n",
      "Vitality                55%     2%    21%    32%    28%    16%     1%\n",
      "MIBR                    51%     2%    18%    32%    30%    17%     1%\n",
      "forZe                   47%     2%    20%    25%    40%    12%     1%\n",
      "Spirit                  46%     1%    18%    27%    37%    16%     2%\n",
      "Eternal Fire            38%     1%    13%    24%    38%    21%     2%\n",
      "Bad News Eagles         17%     0%     5%    11%    39%    37%     7%\n",
      "Imperial                 4%     0%     1%     3%    23%    57%    16%\n",
      "IHC                      3%     0%     0%     3%    14%    51%    32%\n",
      "Renegades                0%     0%     0%     0%     6%    38%    56%\n",
      "9z                       0%     0%     0%     0%     2%    17%    81%\n"
     ]
    }
   ],
   "source": [
    "ilyas_only_results = csgo_sims.table.do_sims(csgo_sims.ilyas_rating_only,nsims=1000)"
   ]
  },
  {
   "cell_type": "markdown",
   "metadata": {},
   "source": [
    "## Writing custom function"
   ]
  },
  {
   "cell_type": "code",
   "execution_count": null,
   "metadata": {},
   "outputs": [],
   "source": []
  }
 ],
 "metadata": {
  "kernelspec": {
   "display_name": "Python 3 (ipykernel)",
   "language": "python",
   "name": "python3"
  },
  "language_info": {
   "codemirror_mode": {
    "name": "ipython",
    "version": 3
   },
   "file_extension": ".py",
   "mimetype": "text/x-python",
   "name": "python",
   "nbconvert_exporter": "python",
   "pygments_lexer": "ipython3",
   "version": "3.9.1"
  }
 },
 "nbformat": 4,
 "nbformat_minor": 1
}
