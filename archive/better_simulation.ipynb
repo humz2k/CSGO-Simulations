{
 "cells": [
  {
   "cell_type": "markdown",
   "metadata": {
    "nteract": {
     "transient": {
      "deleting": false
     }
    }
   },
   "source": [
    "<center>\n",
    "\n",
    "## Simulating the Challenger Stage of PGL Antwerp\n",
    "    \n",
    "</center>\n",
    "    \n",
    "#### Using data from: \n",
    "* https://liquipedia.net/counterstrike/PGL/2022/Antwerp\n",
    "* https://www.hltv.org/\n",
    "* https://www.hltv.org/news/32621/buchholz-seeding-to-be-used-in-pgl-major-swiss-stages"
   ]
  },
  {
   "cell_type": "markdown",
   "metadata": {},
   "source": [
    "### Setup"
   ]
  },
  {
   "cell_type": "code",
   "execution_count": 1,
   "metadata": {
    "jupyter": {
     "outputs_hidden": false,
     "source_hidden": false
    },
    "nteract": {
     "transient": {
      "deleting": false
     }
    }
   },
   "outputs": [],
   "source": [
    "import csgo_sims\n",
    "from random import choice,randint,uniform\n",
    "csgo_sims.table.reset()\n",
    "teams = csgo_sims.teams"
   ]
  },
  {
   "cell_type": "markdown",
   "metadata": {
    "nteract": {
     "transient": {
      "deleting": false
     }
    }
   },
   "source": [
    "#### Load a curated list of tier 1/tier 2 teams (based on HLTV top 30, and my personal opinion)"
   ]
  },
  {
   "cell_type": "code",
   "execution_count": 2,
   "metadata": {
    "jupyter": {
     "outputs_hidden": false,
     "source_hidden": false
    },
    "nteract": {
     "transient": {
      "deleting": false
     }
    }
   },
   "outputs": [],
   "source": [
    "tiers = {}\n",
    "with open(\"tiers.txt\",\"r\") as f:\n",
    "    for rawtier in f.read().split(\"#\")[1:]:\n",
    "        name = rawtier.split(\"\\n\")[0].lower()\n",
    "        teams = rawtier.split(\"\\n\")[1:-1]\n",
    "        tiers[name] = teams"
   ]
  },
  {
   "cell_type": "markdown",
   "metadata": {
    "nteract": {
     "transient": {
      "deleting": false
     }
    }
   },
   "source": [
    "#### Define function to find recent matches"
   ]
  },
  {
   "cell_type": "code",
   "execution_count": 3,
   "metadata": {
    "jupyter": {
     "outputs_hidden": false,
     "source_hidden": false
    },
    "nteract": {
     "transient": {
      "deleting": false
     }
    }
   },
   "outputs": [],
   "source": [
    "def find_recents(team):\n",
    "    out = []\n",
    "    for match in csgo_sims.recentmatches:\n",
    "        if match[\"winner\"] == team.name or match[\"loser\"] == team.name:\n",
    "            out.append(match)\n",
    "    return out"
   ]
  },
  {
   "cell_type": "markdown",
   "metadata": {
    "nteract": {
     "transient": {
      "deleting": false
     }
    }
   },
   "source": [
    "### Defining a relative \"tier\" value \n",
    "* The tier list is very subjective.\n",
    "* In order to make this more <i>objective</i>, we consider the number of wins/losses a team has had against different <i>subjective</i> tiers of teams.\n",
    "* If we use the same <i>subjective</i> tiers, for every team in the tournament, then the calculated \"tier\" will be more consistent.\n",
    "* We define different weights for wins against tier 1/tier 2/tier 2 teams, and for losses against tier 1/tier 2/tier 3 teams.\n",
    "* We completely diregard wins against tier 3 teams, and highly value wins against tier 1 teams.\n",
    "* Similarly, we heavily punish losses against tier 3 teams, and put less weight on tier 1 losses."
   ]
  },
  {
   "cell_type": "code",
   "execution_count": 4,
   "metadata": {
    "jupyter": {
     "outputs_hidden": false,
     "source_hidden": false
    },
    "nteract": {
     "transient": {
      "deleting": false
     }
    }
   },
   "outputs": [],
   "source": [
    "def find_tier(team,tier_weights):\n",
    "    tier = 0\n",
    "    data = {\"tier1\":{\"wins\":0,\"losses\":0},\"tier2\":{\"wins\":0,\"losses\":0},\"tier3\":{\"wins\":0,\"losses\":0}}\n",
    "    for game in find_recents(team):\n",
    "        if game[\"winner\"] == team.name:\n",
    "            if game[\"loser\"] in tiers[\"tier1\"]:\n",
    "                data[\"tier1\"][\"wins\"] += 1\n",
    "                tier += tier_weights[\"tier1\"][\"win\"]\n",
    "            elif game[\"loser\"] in tiers[\"tier2\"]:\n",
    "                data[\"tier2\"][\"wins\"] += 1\n",
    "                tier += tier_weights[\"tier2\"][\"win\"]\n",
    "            else:\n",
    "                data[\"tier3\"][\"wins\"] += 1\n",
    "                tier += tier_weights[\"tier3\"][\"win\"]\n",
    "        else:\n",
    "            if game[\"winner\"] in tiers[\"tier1\"]:\n",
    "                data[\"tier1\"][\"losses\"] += 1\n",
    "                tier -= tier_weights[\"tier1\"][\"loss\"]\n",
    "            elif game[\"winner\"] in tiers[\"tier2\"]:\n",
    "                data[\"tier2\"][\"losses\"] += 1\n",
    "                tier -= tier_weights[\"tier2\"][\"loss\"]\n",
    "            else:\n",
    "                data[\"tier3\"][\"losses\"] += 1\n",
    "                tier -= tier_weights[\"tier3\"][\"loss\"]\n",
    "    return tier,data"
   ]
  },
  {
   "cell_type": "markdown",
   "metadata": {
    "nteract": {
     "transient": {
      "deleting": false
     }
    }
   },
   "source": [
    "### Defining a value for the \"form\" of a team\n",
    "* We use the stats \"current winstreak\" and \"win % in the last 3 months\" as a measure of the recent form of a team.\n",
    "* We then normalize this using the \"tier\" value above (to ensure that lower tier teams with high win % against bad teams dont have a high current form value)."
   ]
  },
  {
   "cell_type": "code",
   "execution_count": 5,
   "metadata": {
    "jupyter": {
     "outputs_hidden": false,
     "source_hidden": false
    },
    "nteract": {
     "transient": {
      "deleting": false
     }
    }
   },
   "outputs": [],
   "source": [
    "def norm_form(team,\n",
    "            tier_min = 12,tier_max=40,\n",
    "            sig_winstreak=5,winstreak_weight=4,last3monthsweight=1,\n",
    "            tier_weights={\"tier1\":{\"win\":3,\"loss\":1},\"tier2\":{\"win\":2,\"loss\":2},\"tier3\":{\"win\":0,\"loss\":3}}):\n",
    "    #recent form\n",
    "    recent_form = (winstreak_weight*(float(team.stats[\"winstreak\"])/sig_winstreak) + last3monthsweight * float(team.stats[\"win%last3months\"]))/100\n",
    "    relative_tier = (find_tier(team,tier_weights)[0]+tier_min)/tier_max\n",
    "    normalized_form = recent_form*relative_tier\n",
    "    return normalized_form"
   ]
  },
  {
   "cell_type": "markdown",
   "metadata": {
    "nteract": {
     "transient": {
      "deleting": false
     }
    }
   },
   "source": [
    "### Defining an \"on paper\" win/loss probability\n",
    "* We use the hltv rating and seeds of two teams to estimate the win probability for the first team."
   ]
  },
  {
   "cell_type": "code",
   "execution_count": 6,
   "metadata": {
    "jupyter": {
     "outputs_hidden": false,
     "source_hidden": false
    },
    "nteract": {
     "transient": {
      "deleting": false
     }
    }
   },
   "outputs": [],
   "source": [
    "def on_paper(team1,team2,hltv_weight=0.8,seed_weight=0.2):\n",
    "    total_hltv = team1.stats[\"hltv\"] + team2.stats[\"hltv\"]\n",
    "    team1_hltv = team1.stats[\"hltv\"]/total_hltv\n",
    "    team2_hltv = team2.stats[\"hltv\"]/total_hltv\n",
    "\n",
    "    total_seed = team1.seed + team2.seed\n",
    "    team1_seed = 1-(team1.seed/total_seed)\n",
    "    team2_seed = 1-(team2.seed/total_seed)\n",
    "    team1_total = (team1_seed * seed_weight + team1_hltv * hltv_weight)/(hltv_weight + seed_weight)\n",
    "    team2_total = (team2_seed * seed_weight + team2_hltv * hltv_weight)/(hltv_weight + seed_weight)\n",
    "    return team1_total/(team1_total + team2_total)"
   ]
  },
  {
   "cell_type": "markdown",
   "metadata": {
    "nteract": {
     "transient": {
      "deleting": false
     }
    }
   },
   "source": [
    "### Finding historical data\n",
    "* Look for recent history, and return the record as a fraction."
   ]
  },
  {
   "cell_type": "code",
   "execution_count": 7,
   "metadata": {
    "jupyter": {
     "outputs_hidden": false,
     "source_hidden": false
    },
    "nteract": {
     "transient": {
      "deleting": false
     }
    }
   },
   "outputs": [],
   "source": [
    "def get_history(team1,team2):\n",
    "    wins = 0\n",
    "    losses = 0\n",
    "    for match in find_recents(team1):\n",
    "        if match[\"winner\"] == team1.name and match[\"loser\"] == team2.name:\n",
    "            wins += 1\n",
    "        if match[\"loser\"] == team1.name and match[\"winner\"] == team2.name:\n",
    "            losses += 1\n",
    "    if (wins + losses) == 0:\n",
    "        return 0.5\n",
    "    else:\n",
    "        return wins/(wins+losses)"
   ]
  },
  {
   "cell_type": "markdown",
   "metadata": {
    "nteract": {
     "transient": {
      "deleting": false
     }
    }
   },
   "source": [
    "### Calculating the \"variability\" of a team\n",
    "* Use the \"world ranking\", \"weeks in top 30\" and \"average player age\" as a measure of the experience of a team, and use this to describe how much the performance of a team can fluctuate -> high experience means now variability."
   ]
  },
  {
   "cell_type": "code",
   "execution_count": 8,
   "metadata": {
    "jupyter": {
     "outputs_hidden": false,
     "source_hidden": false
    },
    "nteract": {
     "transient": {
      "deleting": false
     }
    }
   },
   "outputs": [],
   "source": [
    "def variabililty(team,worldrankingmax=53,weekstop30max=211,major_effect=2,optimal_age=26):\n",
    "    rank = (worldrankingmax - team.stats[\"worldranking\"])/worldrankingmax\n",
    "    weekstop30 = (team.stats[\"weekstop30\"]+major_effect)/(weekstop30max+major_effect)\n",
    "    age = 1-(abs(team.stats[\"averageplayerage\"]-optimal_age)/optimal_age)\n",
    "    return (1 - (rank*weekstop30*age))**2"
   ]
  },
  {
   "cell_type": "markdown",
   "metadata": {
    "nteract": {
     "transient": {
      "deleting": false
     }
    }
   },
   "source": [
    "### Calculating weighted the win probability\n",
    "* Use weighted values of all the parameters above to return a cumulative win probability"
   ]
  },
  {
   "cell_type": "code",
   "execution_count": 9,
   "metadata": {
    "jupyter": {
     "outputs_hidden": false,
     "source_hidden": false
    },
    "nteract": {
     "transient": {
      "deleting": false
     }
    }
   },
   "outputs": [],
   "source": [
    "def rate(team1,team2,history_weight=0.1,form_weight=3,var_weight=1,upset_weight=0.2):\n",
    "    team1rate = on_paper(team1,team2)\n",
    "    team2rate = 1-team1rate\n",
    "    historyteam1 = get_history(team1,team2)\n",
    "    historyteam2 = 1-historyteam1\n",
    "    team1rate += historyteam1*history_weight\n",
    "    team2rate += historyteam2*history_weight\n",
    "    total = team1rate + team2rate\n",
    "    team1rate /= total\n",
    "    team2rate /= total\n",
    "    team1form = norm_form(team1)\n",
    "    team2form = norm_form(team2)\n",
    "    team1rate += team1form * form_weight\n",
    "    team2rate += team2form * form_weight\n",
    "    total = team1rate + team2rate\n",
    "    team1rate /= total\n",
    "    team2rate /= total\n",
    "    team1var = variabililty(team1)\n",
    "    temp = team1var\n",
    "    team2var = variabililty(team2)\n",
    "    team1var = team1var/team2var\n",
    "    team2var = team2var/temp\n",
    "    total = team1var + team2var\n",
    "    team1var = team1var/total\n",
    "    team2var = team2var/total\n",
    "    if team1rate > team2rate:\n",
    "        bad_game_chance = team1var\n",
    "        good_game_chance = 1-team2var\n",
    "        upset_chance = bad_game_chance*good_game_chance\n",
    "        team2rate += upset_chance * upset_weight\n",
    "    elif team1rate < team2rate:\n",
    "        bad_game_chance = team2var\n",
    "        good_game_chance = 1-team1var\n",
    "        upset_chance = bad_game_chance*good_game_chance\n",
    "        team1rate += upset_chance * upset_weight\n",
    "    total = team1rate + team2rate\n",
    "    team1rate /= total\n",
    "    team2rate /= total\n",
    "    return team1rate,team2rate"
   ]
  },
  {
   "cell_type": "markdown",
   "metadata": {
    "nteract": {
     "transient": {
      "deleting": false
     }
    }
   },
   "source": [
    "### Using the probability to simulate a game\n",
    "* This is a very simple simulation, that just uses the probability to decide who wins each round."
   ]
  },
  {
   "cell_type": "code",
   "execution_count": 10,
   "metadata": {
    "jupyter": {
     "outputs_hidden": false,
     "source_hidden": false
    },
    "nteract": {
     "transient": {
      "deleting": false
     }
    }
   },
   "outputs": [],
   "source": [
    "def simfunc(team1,team2):\n",
    "    team1win,team2win = rate(team1,team2)\n",
    "    bo3 = csgo_sims.isbo3(team1,team2)\n",
    "    games_to_win = 1\n",
    "    if bo3:\n",
    "        games_to_win = 2\n",
    "    team1games = 0\n",
    "    team2games = 0\n",
    "    team1totalrounds = 0\n",
    "    team2totalrounds = 0\n",
    "    while team1games != games_to_win and team2games != games_to_win:\n",
    "        team1rounds = 0\n",
    "        team2rounds = 0\n",
    "        while team1rounds != 16 and team2rounds != 16:\n",
    "            if uniform(0,1) < team1win:\n",
    "                team1rounds += 1\n",
    "            else:\n",
    "                team2rounds += 1\n",
    "        team1totalrounds += team1rounds\n",
    "        team2totalrounds += team2rounds\n",
    "        if team1rounds > team2rounds:\n",
    "            team1games += 1\n",
    "        else:\n",
    "            team2games += 1\n",
    "    if team1games > team2games:\n",
    "        return team1,csgo_sims.GameStats(team1totalrounds-team2totalrounds,(team1games,team2games))\n",
    "    else:\n",
    "        return team2,csgo_sims.GameStats(team2totalrounds-team1totalrounds,(team2games,team1games))"
   ]
  },
  {
   "cell_type": "markdown",
   "metadata": {
    "nteract": {
     "transient": {
      "deleting": false
     }
    }
   },
   "source": [
    "### Running 1000 simulations to get promotion probability"
   ]
  },
  {
   "cell_type": "code",
   "execution_count": 13,
   "metadata": {
    "jupyter": {
     "outputs_hidden": false,
     "source_hidden": false
    },
    "nteract": {
     "transient": {
      "deleting": false
     }
    }
   },
   "outputs": [
    {
     "name": "stdout",
     "output_type": "stream",
     "text": [
      "Team             Promotion% (3-0)% (3-1)% (3-2)% (2-3)% (1-3)% (0-3)%\n",
      "=====================================================================\n",
      "G2                     100%    79%    19%     2%     0%     0%     0%\n",
      "ENCE                   100%    99%     1%     0%     0%     0%     0%\n",
      "Astralis                99%    16%    64%    19%     1%     0%     0%\n",
      "Vitality                97%     6%    62%    29%     2%     1%     0%\n",
      "Outsiders               91%     0%    47%    44%     8%     1%     0%\n",
      "Liquid                  90%     0%    42%    47%     8%     2%     0%\n",
      "MIBR                    84%     0%    36%    48%    14%     2%     0%\n",
      "Spirit                  54%     0%    15%    39%    35%    10%     1%\n",
      "Imperial                28%     0%     4%    24%    45%    27%     1%\n",
      "Bad News Eagles         26%     0%     5%    22%    50%    23%     1%\n",
      "Complexity              16%     0%     1%    15%    43%    39%     3%\n",
      "Eternal Fire             9%     0%     2%     7%    38%    49%     5%\n",
      "forZe                    7%     0%     1%     6%    46%    46%     2%\n",
      "Renegades                0%     0%     0%     0%     9%    59%    32%\n",
      "IHC                      0%     0%     0%     0%     0%    28%    71%\n",
      "9z                       0%     0%     0%     0%     1%    14%    85%\n"
     ]
    }
   ],
   "source": [
    "results = csgo_sims.table.do_sims(simfunc,nsims=1000)"
   ]
  },
  {
   "cell_type": "markdown",
   "metadata": {},
   "source": [
    "### Running just one simulation"
   ]
  },
  {
   "cell_type": "code",
   "execution_count": 14,
   "metadata": {},
   "outputs": [
    {
     "name": "stdout",
     "output_type": "stream",
     "text": [
      "============================Round0===========================\n",
      "Vitality        (1-0) beats Complexity       (0-1), 1-0 (+3)\n",
      "Bad News Eagles (1-0) beats Eternal Fire     (0-1), 1-0 (+2)\n",
      "G2              (1-0) beats Liquid           (0-1), 1-0 (+4)\n",
      "Renegades       (1-0) beats forZe            (0-1), 1-0 (+3)\n",
      "Astralis        (1-0) beats IHC              (0-1), 1-0 (+14)\n",
      "Spirit          (1-0) beats Imperial         (0-1), 1-0 (+5)\n",
      "MIBR            (1-0) beats Outsiders        (0-1), 1-0 (+3)\n",
      "ENCE            (1-0) beats 9z               (0-1), 1-0 (+14)\n",
      "============================Round1===========================\n",
      "ENCE            (2-0) beats Renegades        (1-1), 1-0 (+13)\n",
      "G2              (2-0) beats Spirit           (1-1), 1-0 (+9)\n",
      "Astralis        (2-0) beats Bad News Eagles  (1-1), 1-0 (+11)\n",
      "Vitality        (2-0) beats MIBR             (1-1), 1-0 (+2)\n",
      "forZe           (1-1) beats 9z               (0-2), 1-0 (+8)\n",
      "Liquid          (1-1) beats Imperial         (0-2), 1-0 (+3)\n",
      "Eternal Fire    (1-1) beats IHC              (0-2), 1-0 (+7)\n",
      "Outsiders       (1-1) beats Complexity       (0-2), 1-0 (+9)\n",
      "============================Round2===========================\n",
      "ENCE            (3-0) beats Vitality         (2-1), 2-0 (+15)\n",
      "G2              (3-0) beats Astralis         (2-1), 2-0 (+14)\n",
      "Liquid          (2-1) beats forZe            (1-2), 1-0 (+13)\n",
      "MIBR            (2-1) beats Renegades        (1-2), 1-0 (+4)\n",
      "Outsiders       (2-1) beats Bad News Eagles  (1-2), 1-0 (+4)\n",
      "Spirit          (2-1) beats Eternal Fire     (1-2), 1-0 (+10)\n",
      "Imperial        (1-2) beats 9z               (0-3), 2-1 (+11)\n",
      "Complexity      (1-2) beats IHC              (0-3), 2-0 (+22)\n",
      "============================Round3===========================\n",
      "Outsiders       (3-1) beats Vitality         (2-2), 2-0 (+5)\n",
      "Astralis        (3-1) beats MIBR             (2-2), 2-0 (+15)\n",
      "Liquid          (3-1) beats Spirit           (2-2), 2-0 (+8)\n",
      "Renegades       (2-2) beats Eternal Fire     (1-3), 2-1 (+13)\n",
      "forZe           (2-2) beats Bad News Eagles  (1-3), 2-1 (+3)\n",
      "Imperial        (2-2) beats Complexity       (1-3), 2-0 (+12)\n",
      "============================Round4===========================\n",
      "MIBR            (3-2) beats Imperial         (2-3), 2-0 (+12)\n",
      "Vitality        (3-2) beats forZe            (2-3), 2-0 (+27)\n",
      "Spirit          (3-2) beats Renegades        (2-3), 2-0 (+13)\n",
      "============================Result===========================\n",
      "Eliminated\n",
      "----------\n",
      "9z\n",
      "IHC\n",
      "Eternal Fire\n",
      "Bad News Eagles\n",
      "Complexity\n",
      "Imperial\n",
      "forZe\n",
      "Renegades\n",
      "\n",
      "Promoted\n",
      "----------\n",
      "ENCE\n",
      "G2\n",
      "Outsiders\n",
      "Astralis\n",
      "Liquid\n",
      "MIBR\n",
      "Vitality\n",
      "Spirit\n"
     ]
    }
   ],
   "source": [
    "results = csgo_sims.table.play(simfunc)"
   ]
  }
 ],
 "metadata": {
  "kernelspec": {
   "display_name": "Python 3",
   "language": "python",
   "name": "python3"
  },
  "language_info": {
   "codemirror_mode": {
    "name": "ipython",
    "version": 3
   },
   "file_extension": ".py",
   "mimetype": "text/x-python",
   "name": "python",
   "nbconvert_exporter": "python",
   "pygments_lexer": "ipython3",
   "version": "3.6.4"
  }
 },
 "nbformat": 4,
 "nbformat_minor": 1
}
