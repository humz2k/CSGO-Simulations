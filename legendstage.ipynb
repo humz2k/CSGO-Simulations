{
 "cells": [
  {
   "cell_type": "code",
   "execution_count": 1,
   "metadata": {},
   "outputs": [],
   "source": [
    "import csgo_sims\n",
    "import pandas as pd\n",
    "import datetime\n",
    "from random import uniform"
   ]
  },
  {
   "cell_type": "code",
   "execution_count": 2,
   "metadata": {},
   "outputs": [],
   "source": [
    "team_stats = csgo_sims.TeamData(\"data/team_stats.csv\")\n",
    "matches = csgo_sims.Matches(\"data/matches.csv\",types={\"winner\":str,\"loser\":str,\"winnerscore\":int,\"loserscore\":int,\"date\":\"date\",\"bo3\":bool})\n",
    "team_stats.get_elo(matches,\"winner\",\"loser\",\"winnerscore\",\"loserscore\")\n",
    "seeds = csgo_sims.SeedData(\"data/team_seeds.csv\")\n",
    "table = csgo_sims.Table(team_stats,seeds)"
   ]
  },
  {
   "cell_type": "code",
   "execution_count": 3,
   "metadata": {},
   "outputs": [],
   "source": [
    "def get_tier(teamname,low = -6,high=11.00405885982721):\n",
    "    assert teamname in team_stats.teams\n",
    "    history = matches.find(teamname)\n",
    "    tier = 0\n",
    "    for idx in range(len(history)):\n",
    "        winner = history.iloc[idx][\"winner\"]\n",
    "        loser = history.iloc[idx][\"loser\"]\n",
    "        if winner == teamname:\n",
    "            if loser in team_stats.teams:\n",
    "                ranking = team_stats[loser].stats[\"worldranking\"]\n",
    "                tier += (257/(ranking+256))**(25)\n",
    "        else:\n",
    "            if winner in team_stats.teams:\n",
    "                ranking = team_stats[winner].stats[\"worldranking\"]\n",
    "                tier -= (ranking/257)**(1/3)\n",
    "    return (tier - low)/high"
   ]
  },
  {
   "cell_type": "code",
   "execution_count": 4,
   "metadata": {},
   "outputs": [],
   "source": [
    "def norm_form(teamname,\n",
    "            sig_winstreak=5,winstreak_weight=4,last3monthsweight=1):\n",
    "    #recent form\n",
    "    team = team_stats.teams[teamname]\n",
    "    tier = get_tier(teamname)\n",
    "    winstreak = team.stats[\"winstreak\"]\n",
    "    try:\n",
    "        winstreak = float(winstreak)\n",
    "    except:\n",
    "        winstreak = 0\n",
    "    last3months = team.stats[\"win%last3months\"]\n",
    "    try:\n",
    "        last3months = float(last3months)\n",
    "    except:\n",
    "        last3months = 0\n",
    "    recent_form = (winstreak_weight*(float(winstreak)/sig_winstreak) + last3monthsweight * float())/100\n",
    "    normalized_form = recent_form*tier\n",
    "    return normalized_form"
   ]
  },
  {
   "cell_type": "code",
   "execution_count": 5,
   "metadata": {},
   "outputs": [],
   "source": [
    "def on_paper(team1name,team2name,hltv_weight=0.8,seed_weight=0.2):\n",
    "    team1 = team_stats.teams[team1name]\n",
    "    team2 = team_stats.teams[team2name]\n",
    "    total_hltv = team1.stats[\"hltv\"] + team2.stats[\"hltv\"]\n",
    "    team1_hltv = team1.stats[\"hltv\"]/total_hltv\n",
    "    team2_hltv = team2.stats[\"hltv\"]/total_hltv\n",
    "\n",
    "    total_seed = team1.seed + team2.seed\n",
    "    team1_seed = 1-(team1.seed/total_seed)\n",
    "    team2_seed = 1-(team2.seed/total_seed)\n",
    "    team1_total = (team1_seed * seed_weight + team1_hltv * hltv_weight)/(hltv_weight + seed_weight)\n",
    "    team2_total = (team2_seed * seed_weight + team2_hltv * hltv_weight)/(hltv_weight + seed_weight)\n",
    "    return team1_total/(team1_total + team2_total)"
   ]
  },
  {
   "cell_type": "code",
   "execution_count": 6,
   "metadata": {},
   "outputs": [],
   "source": [
    "def get_history(team1name,team2name):\n",
    "    wins = 0\n",
    "    losses = 0\n",
    "    team1 = team_stats.teams[team1name]\n",
    "    team2 = team_stats.teams[team2name]\n",
    "    history = matches.find(team1name)\n",
    "    for idx in range(len(history)):\n",
    "        match = history.iloc[idx]\n",
    "        if match[\"winner\"] == team1.name and match[\"loser\"] == team2.name:\n",
    "            wins += 1\n",
    "        if match[\"loser\"] == team1.name and match[\"winner\"] == team2.name:\n",
    "            losses += 1\n",
    "    if (wins + losses) == 0:\n",
    "        return 0.5\n",
    "    else:\n",
    "        return wins/(wins+losses)"
   ]
  },
  {
   "cell_type": "code",
   "execution_count": 7,
   "metadata": {},
   "outputs": [],
   "source": [
    "def variabililty(teamname,worldrankingmax=53,weekstop30max=211,major_effect=2,optimal_age=26):\n",
    "    team = team_stats.teams[teamname]\n",
    "    rank = (worldrankingmax - team.stats[\"worldranking\"])/worldrankingmax\n",
    "    weekstop30 = (team.stats[\"weekstop30\"]+major_effect)/(weekstop30max+major_effect)\n",
    "    age = 1-(abs(team.stats[\"averageplayerage\"]-optimal_age)/optimal_age)\n",
    "    return (1 - (rank*weekstop30*age))**2"
   ]
  },
  {
   "cell_type": "code",
   "execution_count": 8,
   "metadata": {},
   "outputs": [],
   "source": [
    "def rate(team1,team2,history_weight=0.1,form_weight=3,var_weight=1,upset_weight=0.2):\n",
    "    team1rate = on_paper(team1,team2)\n",
    "    team2rate = 1-team1rate\n",
    "    historyteam1 = get_history(team1,team2)\n",
    "    historyteam2 = 1-historyteam1\n",
    "    team1rate += historyteam1*history_weight\n",
    "    team2rate += historyteam2*history_weight\n",
    "    total = team1rate + team2rate\n",
    "    team1rate /= total\n",
    "    team2rate /= total\n",
    "    team1form = norm_form(team1)\n",
    "    team2form = norm_form(team2)\n",
    "    team1rate += team1form * form_weight\n",
    "    team2rate += team2form * form_weight\n",
    "    total = team1rate + team2rate\n",
    "    team1rate /= total\n",
    "    team2rate /= total\n",
    "    team1var = variabililty(team1)\n",
    "    temp = team1var\n",
    "    team2var = variabililty(team2)\n",
    "    team1var = team1var/team2var\n",
    "    team2var = team2var/temp\n",
    "    total = team1var + team2var\n",
    "    team1var = team1var/total\n",
    "    team2var = team2var/total\n",
    "    if team1rate > team2rate:\n",
    "        bad_game_chance = team1var\n",
    "        good_game_chance = 1-team2var\n",
    "        upset_chance = bad_game_chance*good_game_chance\n",
    "        team2rate += upset_chance * upset_weight\n",
    "    elif team1rate < team2rate:\n",
    "        bad_game_chance = team2var\n",
    "        good_game_chance = 1-team1var\n",
    "        upset_chance = bad_game_chance*good_game_chance\n",
    "        team1rate += upset_chance * upset_weight\n",
    "    total = team1rate + team2rate\n",
    "    team1rate /= total\n",
    "    team2rate /= total\n",
    "    return team1rate,team2rate"
   ]
  },
  {
   "cell_type": "code",
   "execution_count": 9,
   "metadata": {},
   "outputs": [],
   "source": [
    "def simfunc(team1,team2):\n",
    "    team1win,team2win = rate(team1.name,team2.name)\n",
    "    bo3 = csgo_sims.isbo3(team1,team2)\n",
    "    games_to_win = 1\n",
    "    if bo3:\n",
    "        games_to_win = 2\n",
    "    team1games = 0\n",
    "    team2games = 0\n",
    "    team1totalrounds = 0\n",
    "    team2totalrounds = 0\n",
    "    while team1games != games_to_win and team2games != games_to_win:\n",
    "        team1rounds = 0\n",
    "        team2rounds = 0\n",
    "        while team1rounds != 16 and team2rounds != 16:\n",
    "            if uniform(0,1) < team1win:\n",
    "                team1rounds += 1\n",
    "            else:\n",
    "                team2rounds += 1\n",
    "        team1totalrounds += team1rounds\n",
    "        team2totalrounds += team2rounds\n",
    "        if team1rounds > team2rounds:\n",
    "            team1games += 1\n",
    "        else:\n",
    "            team2games += 1\n",
    "    if team1games > team2games:\n",
    "        return team1,csgo_sims.GameStats(team1totalrounds-team2totalrounds,(team1games,team2games))\n",
    "    else:\n",
    "        return team2,csgo_sims.GameStats(team2totalrounds-team1totalrounds,(team2games,team1games))"
   ]
  },
  {
   "cell_type": "code",
   "execution_count": 33,
   "metadata": {},
   "outputs": [
    {
     "name": "stdout",
     "output_type": "stream",
     "text": [
      "Team               Promotion% (3-0)% (3-1)% (3-2)% (2-3)% (1-3)% (0-3)%\n",
      "=======================================================================\n",
      "FaZe                     100%    64%    29%     7%     0%     0%     0%\n",
      "Natus Vincere            100%    49%    41%    10%     0%     0%     0%\n",
      "Heroic                    94%    32%    40%    22%     3%     1%     0%\n",
      "G2                        85%    11%    30%    44%    11%     4%     0%\n",
      "Cloud9                    82%     9%    36%    37%    13%     1%     0%\n",
      "FURIA                     82%    13%    39%    30%    16%     2%     0%\n",
      "ENCE                      69%     1%    31%    37%    17%    10%     0%\n",
      "NIP                       48%     4%    16%    26%    34%    16%     0%\n",
      "Outsiders                 45%     3%    15%    27%    27%    21%     0%\n",
      "BIG                       29%     5%     6%    18%    37%    33%     0%\n",
      "Vitality                  27%     4%     9%    14%    36%    32%     0%\n",
      "Copenhagen Flames         14%     3%     4%     7%    54%    26%     0%\n",
      "Liquid                    11%     2%     4%     5%    34%    54%     0%\n",
      "Spirit                     0%     0%     0%     0%     0%    15%    85%\n",
      "Imperial                   0%     0%     0%     0%     0%    18%    82%\n",
      "Bad News Eagles            0%     0%     0%     0%     0%    67%    33%\n"
     ]
    }
   ],
   "source": [
    "results,tree = table.do_sims(simfunc,nsims=100)"
   ]
  },
  {
   "cell_type": "code",
   "execution_count": 37,
   "metadata": {},
   "outputs": [
    {
     "name": "stdout",
     "output_type": "stream",
     "text": [
      "24\n"
     ]
    }
   ],
   "source": [
    "def clean_tree(tree,initial_matches=None):\n",
    "    out = {}\n",
    "    r1_results = [list(i) for i in list(tree.keys())]\n",
    "    n_branches = len(r1_results)\n",
    "    if initial_matches == None:\n",
    "        initial_matches = list(list(tree.keys())[0])\n",
    "    for matchup in initial_matches:\n",
    "        perm1 = matchup\n",
    "        perm2 = matchup[::-1]\n",
    "        count1 = 0\n",
    "        count2 = 0\n",
    "        for i in r1_results:\n",
    "            if perm1 in i:\n",
    "                count1 += 1\n",
    "            if perm2 in i:\n",
    "                count2 += 1\n",
    "            if count1 != 0 and count2 != 0:\n",
    "                count1 = 0\n",
    "                count2 = 0\n",
    "                break\n",
    "        if count1 == n_branches:\n",
    "            for idx in range(n_branches):\n",
    "                r1_results[idx].remove(perm1)\n",
    "        elif count2 == n_branches:\n",
    "            for idx in range(n_branches):\n",
    "                r1_results[idx].remove(perm2)\n",
    "    r1_results = [tuple(i) for i in r1_results]\n",
    "    for new,old in zip(r1_results,tree.keys()):\n",
    "        out[new] = tree[old]\n",
    "        if \"next\" in out[new]:\n",
    "            if out[new][\"next\"] != None and len(list(out[new][\"next\"].keys())) != 0:\n",
    "                out[new][\"next\"] = clean_tree(out[new][\"next\"])\n",
    "    return out\n",
    "\n",
    "def delete_empty(tree):\n",
    "    out = {}\n",
    "    if ('e', 'l', 'i', 'm', 'i', 'n', 'a', 't', 'e', 'd') in tree:\n",
    "        out[\"eliminated\"] = tree[('e', 'l', 'i', 'm', 'i', 'n', 'a', 't', 'e', 'd')]\n",
    "        out[\"promoted\"] = tree[('p', 'r', 'o', 'm', 'o', 't', 'e', 'd')]\n",
    "        for i in [(3, 1), (2, 3), (1, 3), (3, 0), (3, 2), (0, 3)]:\n",
    "            out[i] = tree[i]\n",
    "        return out\n",
    "    if len(list(tree.keys())[0]) == 0:\n",
    "        if 'next' in tree[list(tree.keys())[0]]:\n",
    "            return delete_empty(tree[list(tree.keys())[0]][\"next\"])\n",
    "        else:\n",
    "            return tree[list(tree.keys())[0]]\n",
    "    for key in tree.keys():\n",
    "        out[key] = tree[key]\n",
    "        if 'next' in out[key]:\n",
    "            out[key]['next'] = delete_empty(out[key]['next'])\n",
    "    return out\n",
    "\n",
    "def print_tree(tree):\n",
    "    new_tree = delete_empty(clean_tree(tree,initial_matches))\n",
    "    print(len(new_tree.keys()))\n",
    "\n",
    "initial_matches = [('Heroic', 'Liquid'), ('Copenhagen Flames', 'Bad News Eagles'), ('BIG', 'Imperial'), ('Outsiders', 'Cloud9'), ('FURIA', 'Spirit'), ('FaZe', 'ENCE'), ('NIP', 'Vitality'), ('Natus Vincere', 'G2')]\n",
    "\n",
    "print_tree(tree)"
   ]
  },
  {
   "cell_type": "code",
   "execution_count": null,
   "metadata": {},
   "outputs": [],
   "source": []
  }
 ],
 "metadata": {
  "interpreter": {
   "hash": "aee8b7b246df8f9039afb4144a1f6fd8d2ca17a180786b69acc140d282b71a49"
  },
  "kernelspec": {
   "display_name": "Python 3.9.2 64-bit",
   "language": "python",
   "name": "python3"
  },
  "language_info": {
   "codemirror_mode": {
    "name": "ipython",
    "version": 3
   },
   "file_extension": ".py",
   "mimetype": "text/x-python",
   "name": "python",
   "nbconvert_exporter": "python",
   "pygments_lexer": "ipython3",
   "version": "3.9.2"
  },
  "orig_nbformat": 4
 },
 "nbformat": 4,
 "nbformat_minor": 2
}
